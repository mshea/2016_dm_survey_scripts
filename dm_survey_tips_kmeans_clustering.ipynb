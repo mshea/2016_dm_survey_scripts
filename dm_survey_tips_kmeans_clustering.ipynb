{
 "cells": [
  {
   "cell_type": "code",
   "execution_count": 1,
   "metadata": {
    "collapsed": true
   },
   "outputs": [],
   "source": [
    "# from http://brandonrose.org/clustering"
   ]
  },
  {
   "cell_type": "code",
   "execution_count": 7,
   "metadata": {
    "collapsed": false
   },
   "outputs": [],
   "source": [
    "import pandas\n",
    "from sklearn import feature_extraction\n",
    "import string\n",
    "from sklearn.feature_extraction.text import TfidfVectorizer\n",
    "from nltk.stem.porter import *\n",
    "from nltk.stem import WordNetLemmatizer\n",
    "import nltk\n",
    "\n",
    "punct = set(string.punctuation)\n",
    "#my_stopwords = [\"a\",\"as\",\"able\",\"about\",\"above\",\"according\",\"accordingly\",\"across\",\"actually\",\"after\",\"afterwards\",\"again\",\"against\",\"aint\",\"all\",\"allow\",\"allows\",\"almost\",\"alone\",\"along\",\"already\",\"also\",\"although\",\"always\",\"am\",\"among\",\"amongst\",\"an\",\"and\",\"another\",\"any\",\"anybody\",\"anyhow\",\"anyone\",\"anything\",\"anyway\",\"anyways\",\"anywhere\",\"apart\",\"appear\",\"appreciate\",\"appropriate\",\"are\",\"arent\",\"around\",\"as\",\"aside\",\"ask\",\"asking\",\"associated\",\"at\",\"available\",\"away\",\"awfully\",\"be\",\"became\",\"because\",\"become\",\"becomes\",\"becoming\",\"been\",\"before\",\"beforehand\",\"behind\",\"being\",\"believe\",\"below\",\"beside\",\"besides\",\"best\",\"better\",\"between\",\"beyond\",\"both\",\"brief\",\"but\",\"by\",\"cmon\",\"cs\",\"came\",\"can\",\"cant\",\"cannot\",\"cant\",\"cause\",\"causes\",\"certain\",\"certainly\",\"changes\",\"clearly\",\"co\",\"com\",\"come\",\"comes\",\"concerning\",\"consequently\",\"consider\",\"considering\",\"contain\",\"containing\",\"contains\",\"corresponding\",\"could\",\"couldnt\",\"course\",\"currently\",\"definitely\",\"described\",\"despite\",\"did\",\"didnt\",\"different\",\"do\",\"does\",\"doesnt\",\"doing\",\"dont\",\"done\",\"down\",\"downwards\",\"during\",\"each\",\"edu\",\"eg\",\"eight\",\"either\",\"else\",\"elsewhere\",\"enough\",\"entirely\",\"especially\",\"et\",\"etc\",\"even\",\"ever\",\"every\",\"everybody\",\"everyone\",\"everything\",\"everywhere\",\"ex\",\"exactly\",\"example\",\"except\",\"far\",\"few\",\"fifth\",\"first\",\"five\",\"followed\",\"following\",\"follows\",\"for\",\"former\",\"formerly\",\"forth\",\"four\",\"from\",\"further\",\"furthermore\",\"get\",\"gets\",\"getting\",\"given\",\"gives\",\"go\",\"goes\",\"going\",\"gone\",\"got\",\"gotten\",\"greetings\",\"had\",\"hadnt\",\"happens\",\"hardly\",\"has\",\"hasnt\",\"have\",\"havent\",\"having\",\"he\",\"hes\",\"hello\",\"help\",\"hence\",\"her\",\"here\",\"heres\",\"hereafter\",\"hereby\",\"herein\",\"hereupon\",\"hers\",\"herself\",\"hi\",\"him\",\"himself\",\"his\",\"hither\",\"hopefully\",\"how\",\"howbeit\",\"however\",\"id\",\"ill\",\"im\",\"ive\",\"ie\",\"if\",\"ignored\",\"immediate\",\"in\",\"inasmuch\",\"inc\",\"indeed\",\"indicate\",\"indicated\",\"indicates\",\"inner\",\"insofar\",\"instead\",\"into\",\"inward\",\"is\",\"isnt\",\"it\",\"itd\",\"itll\",\"its\",\"its\",\"itself\",\"just\",\"keep\",\"keeps\",\"kept\",\"know\",\"known\",\"knows\",\"last\",\"lately\",\"later\",\"latter\",\"latterly\",\"least\",\"less\",\"lest\",\"let\",\"lets\",\"like\",\"liked\",\"likely\",\"little\",\"look\",\"looking\",\"looks\",\"ltd\",\"mainly\",\"many\",\"may\",\"maybe\",\"me\",\"mean\",\"meanwhile\",\"merely\",\"might\",\"more\",\"moreover\",\"most\",\"mostly\",\"much\",\"must\",\"my\",\"myself\",\"name\",\"namely\",\"nd\",\"near\",\"nearly\",\"necessary\",\"need\",\"needs\",\"neither\",\"never\",\"nevertheless\",\"new\",\"next\",\"nine\",\"no\",\"nobody\",\"non\",\"none\",\"noone\",\"nor\",\"normally\",\"not\",\"nothing\",\"novel\",\"now\",\"nowhere\",\"obviously\",\"of\",\"off\",\"often\",\"oh\",\"ok\",\"okay\",\"old\",\"on\",\"once\",\"one\",\"ones\",\"only\",\"onto\",\"or\",\"other\",\"others\",\"otherwise\",\"ought\",\"our\",\"ours\",\"ourselves\",\"out\",\"outside\",\"over\",\"overall\",\"own\",\"particular\",\"particularly\",\"per\",\"perhaps\",\"placed\",\"please\",\"plus\",\"possible\",\"presumably\",\"probably\",\"provides\",\"que\",\"quite\",\"qv\",\"rather\",\"rd\",\"re\",\"really\",\"reasonably\",\"regarding\",\"regardless\",\"regards\",\"relatively\",\"respectively\",\"right\",\"said\",\"same\",\"saw\",\"say\",\"saying\",\"says\",\"second\",\"secondly\",\"see\",\"seeing\",\"seem\",\"seemed\",\"seeming\",\"seems\",\"seen\",\"self\",\"selves\",\"sensible\",\"sent\",\"serious\",\"seriously\",\"seven\",\"several\",\"shall\",\"she\",\"should\",\"shouldnt\",\"since\",\"six\",\"so\",\"some\",\"somebody\",\"somehow\",\"someone\",\"something\",\"sometime\",\"sometimes\",\"somewhat\",\"somewhere\",\"soon\",\"sorry\",\"specified\",\"specify\",\"specifying\",\"still\",\"sub\",\"such\",\"sup\",\"sure\",\"ts\",\"take\",\"taken\",\"tell\",\"tends\",\"th\",\"than\",\"thank\",\"thanks\",\"thanx\",\"that\",\"thats\",\"thats\",\"the\",\"their\",\"theirs\",\"them\",\"themselves\",\"then\",\"thence\",\"there\",\"theres\",\"thereafter\",\"thereby\",\"therefore\",\"therein\",\"theres\",\"thereupon\",\"these\",\"they\",\"theyd\",\"theyll\",\"theyre\",\"theyve\",\"think\",\"third\",\"this\",\"thorough\",\"thoroughly\",\"those\",\"though\",\"three\",\"through\",\"throughout\",\"thru\",\"thus\",\"to\",\"together\",\"too\",\"took\",\"toward\",\"towards\",\"tried\",\"tries\",\"truly\",\"try\",\"trying\",\"twice\",\"two\",\"un\",\"under\",\"unfortunately\",\"unless\",\"unlikely\",\"until\",\"unto\",\"up\",\"upon\",\"us\",\"use\",\"used\",\"useful\",\"uses\",\"using\",\"usually\",\"value\",\"various\",\"very\",\"via\",\"viz\",\"vs\",\"want\",\"wants\",\"was\",\"wasnt\",\"way\",\"we\",\"wed\",\"well\",\"were\",\"weve\",\"welcome\",\"well\",\"went\",\"were\",\"werent\",\"what\",\"whats\",\"whatever\",\"when\",\"whence\",\"whenever\",\"where\",\"wheres\",\"whereafter\",\"whereas\",\"whereby\",\"wherein\",\"whereupon\",\"wherever\",\"whether\",\"which\",\"while\",\"whither\",\"who\",\"whos\",\"whoever\",\"whole\",\"whom\",\"whose\",\"why\",\"will\",\"willing\",\"wish\",\"with\",\"within\",\"without\",\"wont\",\"wonder\",\"would\",\"wouldnt\",\"yes\",\"yet\",\"you\",\"youd\",\"youll\",\"youre\",\"youve\",\"your\",\"yours\",\"yourself\",\"yourselves\",\"zero\"]\n",
    "#my_stopwords = [\"player\",\"players\"]\n",
    "my_stopwords = []"
   ]
  },
  {
   "cell_type": "code",
   "execution_count": 8,
   "metadata": {
    "collapsed": false
   },
   "outputs": [
    {
     "data": {
      "text/plain": [
       "4046"
      ]
     },
     "execution_count": 8,
     "metadata": {},
     "output_type": "execute_result"
    }
   ],
   "source": [
    "d = pandas.read_csv(\"/Users/michaelshea/Documents/dm_survey_data/dm_survey_clean.csv\", encoding = 'iso-8859-1')\n",
    "tips = d[\"Favorite Trick\"]\n",
    "tips = list(set(tips))\n",
    "tips = [tip.strip() for tip in list(tips) if tip == tip]\n",
    "len(tips)"
   ]
  },
  {
   "cell_type": "code",
   "execution_count": 9,
   "metadata": {
    "collapsed": false
   },
   "outputs": [],
   "source": [
    "def tokenize(text):\n",
    "    wordnet_lemmatizer = WordNetLemmatizer()\n",
    "    text = \"\".join([ch for ch in text if ch not in punct and not ch.isdigit()]).lower()\n",
    "    text = [wordnet_lemmatizer.lemmatize(x) for x in text.split() if x not in my_stopwords]\n",
    "    return(text)"
   ]
  },
  {
   "cell_type": "code",
   "execution_count": 15,
   "metadata": {
    "collapsed": false
   },
   "outputs": [
    {
     "name": "stdout",
     "output_type": "stream",
     "text": [
      "CPU times: user 1.03 s, sys: 84.1 ms, total: 1.11 s\n",
      "Wall time: 1.12 s\n",
      "(4046, 1538)\n"
     ]
    }
   ],
   "source": [
    "tfidf_vectorizer = TfidfVectorizer(max_df=.8, max_features=200000,\n",
    "                                 min_df=5, stop_words='english',\n",
    "                                 use_idf=True, tokenizer=tokenize, ngram_range=(1,5))\n",
    "\n",
    "%time tfidf_matrix = tfidf_vectorizer.fit_transform(tips) #fit the vectorizer to synopses\n",
    "\n",
    "print(tfidf_matrix.shape)"
   ]
  },
  {
   "cell_type": "code",
   "execution_count": 16,
   "metadata": {
    "collapsed": true
   },
   "outputs": [],
   "source": [
    "terms = tfidf_vectorizer.get_feature_names()"
   ]
  },
  {
   "cell_type": "code",
   "execution_count": 17,
   "metadata": {
    "collapsed": false
   },
   "outputs": [],
   "source": [
    "from sklearn.metrics.pairwise import cosine_similarity\n",
    "dist = 1 - cosine_similarity(tfidf_matrix)"
   ]
  },
  {
   "cell_type": "code",
   "execution_count": 20,
   "metadata": {
    "collapsed": false
   },
   "outputs": [
    {
     "name": "stdout",
     "output_type": "stream",
     "text": [
      "Cluster 0 (427 tips):  game, session, use, player, like, rule, thing, time, card, initiative, combat, make, cool, world, npc, run, story, dont, dm, idea, start, encounter, know, way, think, help, prep, pc, try, rule cool, best, play, lot, want, note, monster, people, adventure, create, cliffhanger, feel, trick, end, possible, just, campaign, track, work, need, great, inspiration, build, roll, use player, music, good, little, map, book, ha, really, player game, table, ive, come, plan, allow, game player, ask, outline, character, running, end session, set, moment, point, im, stuff, background, let, having, prepared, want game, write, event, important, great game, previous, remember, prepare, scene, using, small, flow, going, run game, start session, make game, different, player session,\n",
      "\n",
      "Cluster 1 (742 tips):  player, want, story, player want, listen, world, idea, letting, listen player, letting player, action, know, play, try, choice, work, know player, roll, thing, listening, game, npc, listening player, dont, ask, think, time, build, player idea, come, adventure, freedom, like, possible, open, knowing, way, campaign, knowing player, allow, making, ask player, building, good, player action, encounter, tell, going, giving, great, player choice, engage, setting, run, plan, moment, just, invested, agency, scene, dm, expect, getting, better, consequence, work player, question, path, interact, enjoy, need, player agency, having, allowing, improvising, create, flow, allow player, really, giving player, getting player, using, player come, twist, lot, develop, good player, roll player, react, learn, plot, option, player story, player try, player think, mind, allowing player, control, prep, remember,\n",
      "\n",
      "Cluster 2 (316 tips):  make, sure, make sure, player, make player, player make, npc, feel, world, game, story, sure player, like, dont, make world, thing, try, making, combat, make sure player, try make, pc, time, just, make game, great, think, making sure, npc make, choice, want, ha, fly, interesting, real, know, party, good, campaign, decision, player feel, going, matter, engaged, plan, make feel, cool, action, just make, make interesting, enemy, idea, character, enjoy, really, moment, fun, session, work, make story, make pc, feel like, situation, way, make sense, make combat, hard, sure ha, theyre, make npc, encounter, having, making sure player, prepared, sense, setting, make player feel, better, change, fight, play, kill, solution, consequence, awesome, motivation, scene, shine, help, note, alive, let, happen, voice, run, group, playing, people, roll, important,\n",
      "\n",
      "Cluster 3 (295 tips):  let, let player, player, story, want, world, dont, try, just, let player want, thing, adventure, idea, game, player want, rule, fun, let player run, run, let player try, player run, decide, think, guide, player try, dont let, dictate, world let, control, build, say, action, drive, play, let player decide, make, create, let story, plot, let player drive, player decide, player drive, tell, lead, let player guide, drive story, talk, let player drive story, player guide, player drive story, player let, flow, plan, player tell, fun let player, know, let player tell, let player play, npc, fun let, let player dictate, work, follow, player dictate, let player tell story, player play, possible, tell story, run game, player control, let player talk, player tell story, let player lead, succeed, develop, let player make, let try, player lead, world let player, roll, let player think, let player run game, improvise, player run game, character, like, player talk, explore, happen, player create, let player control, good, pace, bogged, build world, use, solution, write, story just, campaign,\n",
      "\n",
      "Cluster 4 (307 tips):  character, player, player character, story, npc, world, make, game, plot, play, like, background, character story, getting, making, encounter, voice, think, feel, backstory, way, ask, personal, know, create, character background, combat, help, character backstory, session, invested, let, group, choice, thing, want, build, campaign, just, lot, goal, make character, using, try, include, hook, specific, giving, having, shine, develop, people, dont, character feel, information, getting character, npc character, good, dm, action, adventure, situation, scene, encourage, interaction, really, know character, moment, sheet, character dont, point, pc, main, question, interesting, use, letting character, let character, possible, event, tell, tie, ask player, involved, party, story character, letting, character voice, space, arc, character npc, motivation, development, care, ha, character make, like character, doing, important, stay,\n",
      "\n",
      "Cluster 5 (1689 tips):  npc, dont, pc, music, just, improvise, improv, combat, good, encounter, story, voice, prepare, time, thing, party, know, lot, prepared, improvisation, roll, world, random, trick, great, preparation, note, monster, player, try, using, plan, flexible, plot, adventure, having, making, way, like, description, table, ready, group, prep, flow, play, dm, going, idea, set, fly, steal, map, really, playing, memorable, moving, campaign, unexpected, wing, work, interesting, keeping, twist, enemy, humor, setting, situation, happen, planned, say, mind, skill, rule, mood, dont know, list, alcohol, create, choice, background, improvising, im, effect, scene, look, friend, open, people, need, dungeon, moment, long, dice, funny, think, location, possible, hand, d,\n",
      "\n",
      "Cluster 6 (113 tips):  yes, say, say yes, yes player, say yes player, saying yes, player, saying, yes yes, improv, improvisation, try say yes, try, reason, try say, possible, player want, rule, phrase, want, time, dm, npc, consequence, working, way, work, instead, storytelling, lot, thing, let, play, doesnt, happens, let player, creative, sense, player choice, set, flow, pc, accent, having, improvisational, generally, best, choice, relax, prepare, difficulty, problem, adaptable, stupid, listen, style, make, happen, wing, story, remembering, id, realistic, audience, fun, appropriate, thing player, think, aka, thats, game play, imagination, stay, matter, make work, answer, reward, let player want, let player dictate, exciting, environment player, energy, player dictate, bad, knowing, player action, player control, shape, game, drama, old, plan, flesh, fast, just try, amazing, heavy, rule cool, imagine, dictate,\n",
      "\n",
      "Cluster 7 (157 tips):  fun, having fun, having, rule, player, game, sure, just, making, making sure, make, fun player, player fun, player having fun, dont, make fun, player having, let, dm, sure having fun, sure having, try, focus, group, story, remember, want, fun dont, just fun, npc, youre, improv, loose, letting, like, play, end, know player, sure player, make sure, plan, everybody, flexible, providing, pc, doing, matter, just try, fun npc, encounter, important, make sure having, run, cool, know, rule cool, isnt, lot, ha, way, lead, stuff, plot, say, dont let, making sure player, interesting, ask, adventure, forget, outcome, thing, meant, inspiration, bend, roll, consequence, happen, working, job, try make, asking, adapt, dd, choose, long, roleplay, come, improvisation, having player, time, game fun, great, gm, want play, think, dont sweat, preparation, friend, thats,\n",
      "\n"
     ]
    }
   ],
   "source": [
    "from sklearn.cluster import KMeans\n",
    "cluster_count = 8\n",
    "km = KMeans(n_clusters=cluster_count)\n",
    "km.fit(tfidf_matrix)\n",
    "clusters = km.labels_.tolist()\n",
    "\n",
    "pd = pandas.DataFrame({\"tips\":tips, \"clusters\":clusters})\n",
    "order_centroids = km.cluster_centers_.argsort()[:, ::-1]\n",
    "\n",
    "for i in range(cluster_count):\n",
    "    print(\"Cluster %d\" % i, end='')\n",
    "    print(\" (%d tips): \" % pd[pd[\"clusters\"] == i][\"clusters\"].value_counts(), end=\"\")\n",
    "    for ind in order_centroids[i, :100]: #replace 6 with n words per cluster\n",
    "        print(' %s' % terms[ind], end=',')\n",
    "    print()\n",
    "    print()\n",
    "\n",
    "    "
   ]
  },
  {
   "cell_type": "code",
   "execution_count": 35,
   "metadata": {
    "collapsed": false
   },
   "outputs": [],
   "source": [
    "pd = pd.sort_values(by=[\"clusters\"])\n",
    "pd.to_csv(\"/Users/michaelshea/Documents/dm_survey_data/dm_survey_tips_clusters.csv\", index=False)"
   ]
  },
  {
   "cell_type": "code",
   "execution_count": null,
   "metadata": {
    "collapsed": true
   },
   "outputs": [],
   "source": []
  }
 ],
 "metadata": {
  "anaconda-cloud": {},
  "kernelspec": {
   "display_name": "Python [default]",
   "language": "python",
   "name": "python3"
  },
  "language_info": {
   "codemirror_mode": {
    "name": "ipython",
    "version": 3
   },
   "file_extension": ".py",
   "mimetype": "text/x-python",
   "name": "python",
   "nbconvert_exporter": "python",
   "pygments_lexer": "ipython3",
   "version": "3.5.2"
  }
 },
 "nbformat": 4,
 "nbformat_minor": 1
}
